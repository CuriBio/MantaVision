{
 "cells": [
  {
   "cell_type": "code",
   "execution_count": null,
   "metadata": {},
   "outputs": [],
   "source": [
    "from cv2 import cv2 as cv\n",
    "from track_template import bestMatch\n",
    "from mantavision import getFilePathViaGUI\n",
    "\n",
    "image_to_search_path = getFilePathViaGUI('image to search path')\n",
    "template_to_find_path = getFilePathViaGUI('template to find path')\n",
    "\n",
    "# image_to_search_path = 'test.jpg'\n",
    "# template_to_find_path = 'template.jpg'\n",
    "\n",
    "image_to_search = cv.imread(image_to_search_path)\n",
    "template_to_find = cv.imread(template_to_find_path)\n",
    "\n",
    "match_measure, match_coordinates = bestMatch(\n",
    "    image_to_search,\n",
    "    template_to_find\n",
    ")\n",
    "print(f'opencv coordinate ordering (x, y): {match_coordinates}')\n",
    "\n",
    "match_coordinates_python_order = (match_coordinates[1], match_coordinates[0])\n",
    "print(f'python coordinate ordering (y, x): {match_coordinates_python_order}')"
   ]
  }
 ],
 "metadata": {
  "kernelspec": {
   "display_name": "Python 3.8.2 64-bit",
   "language": "python",
   "name": "python38264bit16ac5c15955c44b9b2db820545286123"
  },
  "language_info": {
   "codemirror_mode": {
    "name": "ipython",
    "version": 3
   },
   "file_extension": ".py",
   "mimetype": "text/x-python",
   "name": "python",
   "nbconvert_exporter": "python",
   "pygments_lexer": "ipython3",
   "version": "3.9.6-final"
  }
 },
 "nbformat": 4,
 "nbformat_minor": 4
}