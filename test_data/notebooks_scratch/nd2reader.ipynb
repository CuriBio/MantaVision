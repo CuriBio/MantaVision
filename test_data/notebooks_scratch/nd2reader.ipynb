{
 "cells": [
  {
   "cell_type": "code",
   "execution_count": 9,
   "metadata": {
    "tags": []
   },
   "outputs": [],
   "source": [
    "from nd2reader import ND2Reader\n",
    "import numpy as np\n",
    "video_dir = './videos_to_track/video_suite/'\n",
    "video_file = '0000-00-00_example_A000.nd2'\n",
    "video_path = video_dir + video_file\n",
    "\n",
    "# video_path = './videos_to_track/to_track/0000-00-00_example_blank_A000.nd2'\n",
    "# video_path = './videos_to_track/video_suite/0000-00-00_example_blank_A000.nd2'\n",
    "# video_path = './videos_to_track/to_track/0000-00-00_example_A000.nd2'\n",
    "nd2_frames = ND2Reader(video_path)"
   ]
  },
  {
   "cell_type": "code",
   "execution_count": 28,
   "metadata": {},
   "outputs": [
    {
     "name": "stdout",
     "output_type": "stream",
     "text": [
      "num_frames: 1001\n",
      "{'x': 1129, 'y': 252, 't': 1001}\n",
      "duration: 10.007882080078126\n",
      "avg_frame_rate: 100.02116251875199\n",
      "frame_rate: 100.23984384830462\n",
      "[]\n"
     ]
    },
    {
     "data": {
      "text/plain": [
       "array([-2.18330045e+01, -1.18259244e+01, -1.81786776e+00, ...,\n",
       "        9.96603296e+03,  9.97604102e+03,  9.98604908e+03])"
      ]
     },
     "execution_count": 28,
     "metadata": {},
     "output_type": "execute_result"
    }
   ],
   "source": [
    "num_frames = len(nd2_frames)\n",
    "print(f'num_frames: {num_frames}')\n",
    "# frames are access like a numpy array so\n",
    "# nd2_frames[frame_num] will return the frame\n",
    "\n",
    "print(nd2_frames.sizes)\n",
    "# time_steps = nd2_frames.get_timesteps()\n",
    "time_steps = nd2_frames.timesteps\n",
    "start_time = time_steps[0]\n",
    "end_time = time_steps[-1]\n",
    "duration = float(end_time - start_time)*(1.0/1000.0)\n",
    "print(f'duration: {duration}')\n",
    "\n",
    "avg_frame_rate = float(num_frames)/duration\n",
    "print(f'avg_frame_rate: {avg_frame_rate}')\n",
    "print(f'frame_rate: {nd2_frames.frame_rate}')\n",
    "# test_array = np.zeros((1,1), dtype=np.uint16)\n",
    "# print(test_array.itemsize)\n",
    "# print()\n",
    "# nd2_frame = nd2_frames[0]\n",
    "# print(nd2_frame)\n",
    "# print(nd2_frame.astype(np.uint8))\n",
    "# print(nd2_frame.itemsize)\n",
    "# print(type(nd2_frame))\n",
    "# nd2_frame.metadata\n",
    "\n",
    "print(frame)\n",
    "\n",
    "# print(nd2_frames.timesteps)\n",
    "print(time_steps)\n",
    "\n",
    "# print(frame.shape)\n",
    "# print(nd2_frames.metadata)\n",
    "# frame = nd2_frames.get_frame()\n",
    "# frame = nd2_frames.get_frame_2D(z=1, c='FITC', t=0)\n",
    "# frame = nd2_frames[0]\n",
    "\n"
   ]
  },
  {
   "cell_type": "code",
   "execution_count": null,
   "metadata": {},
   "outputs": [],
   "source": []
  }
 ],
 "metadata": {
  "interpreter": {
   "hash": "767d51c1340bd893661ea55ea3124f6de3c7a262a8b4abca0554b478b1e2ff90"
  },
  "kernelspec": {
   "display_name": "Python 3.9.7 64-bit",
   "name": "python3"
  },
  "language_info": {
   "codemirror_mode": {
    "name": "ipython",
    "version": 3
   },
   "file_extension": ".py",
   "mimetype": "text/x-python",
   "name": "python",
   "nbconvert_exporter": "python",
   "pygments_lexer": "ipython3",
   "version": "3.9.7"
  }
 },
 "nbformat": 4,
 "nbformat_minor": 4
}
