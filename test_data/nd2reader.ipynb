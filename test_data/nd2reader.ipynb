{
 "cells": [
  {
   "cell_type": "code",
   "execution_count": 1,
   "metadata": {
    "tags": []
   },
   "outputs": [],
   "source": [
    "from nd2reader import ND2Reader\n",
    "import numpy as np\n",
    "video_path = './example_blank.nd2'\n",
    "nd2_frames = ND2Reader(video_path)"
   ]
  },
  {
   "cell_type": "code",
   "execution_count": 2,
   "metadata": {},
   "outputs": [
    {
     "name": "stdout",
     "output_type": "stream",
     "text": [
      "num_frames: 200\n",
      "duration: 2.23373388671875\n",
      "avg_frame_rate: 89.53618028949303\n",
      "[[807 767 661 ... 652 655 616]\n",
      " [740 836 843 ... 539 573 595]\n",
      " [686 724 727 ... 666 518 567]\n",
      " ...\n",
      " [ 97 105  98 ... 112 120 106]\n",
      " [ 87 106 108 ... 107 107  91]\n",
      " [106 101 108 ... 124 112 118]]\n"
     ]
    }
   ],
   "source": [
    "num_frames = len(nd2_frames)\n",
    "print(f'num_frames: {num_frames}')\n",
    "# frames are access like a numpy array so\n",
    "# nd2_frames[frame_num] will return the frame\n",
    "\n",
    "time_steps = nd2_frames.get_timesteps()\n",
    "start_time = time_steps[0]\n",
    "end_time = time_steps[-1]\n",
    "duration = float(end_time - start_time)/1000.0\n",
    "print(f'duration: {duration}')\n",
    "\n",
    "avg_frame_rate = float(num_frames)/duration\n",
    "print(f'avg_frame_rate: {avg_frame_rate}')\n",
    "\n",
    "# print(time_steps/1000.0)\n",
    "\n",
    "# when converting from an ND2 to an mp4 or avi etc, \n",
    "# we can set a time base as: \n",
    "# time_base = (1.0/1000.0)*(1/avg_frame_rate)\n",
    "# where the 1/1000 puts it into milliseconds\n",
    "# or we can just by default choose 1/25000 since that appears to be fairly common\n",
    "\n",
    "print(nd2_frames[0])"
   ]
  },
  {
   "cell_type": "code",
   "execution_count": null,
   "metadata": {},
   "outputs": [],
   "source": []
  }
 ],
 "metadata": {
  "interpreter": {
   "hash": "767d51c1340bd893661ea55ea3124f6de3c7a262a8b4abca0554b478b1e2ff90"
  },
  "kernelspec": {
   "display_name": "Python 3.9.7 64-bit",
   "name": "python3"
  },
  "language_info": {
   "codemirror_mode": {
    "name": "ipython",
    "version": 3
   },
   "file_extension": ".py",
   "mimetype": "text/x-python",
   "name": "python",
   "nbconvert_exporter": "python",
   "pygments_lexer": "ipython3",
   "version": "3.9.7"
  }
 },
 "nbformat": 4,
 "nbformat_minor": 4
}
