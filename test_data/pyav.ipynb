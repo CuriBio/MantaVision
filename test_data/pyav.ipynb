{
 "cells": [
  {
   "cell_type": "code",
   "execution_count": 32,
   "metadata": {
    "tags": []
   },
   "outputs": [],
   "source": [
    "import av\n",
    "import numpy as np\n",
    "video_path = './phase_contrast.mp4'\n",
    "video_container = av.open(video_path)"
   ]
  },
  {
   "cell_type": "code",
   "execution_count": 33,
   "metadata": {},
   "outputs": [
    {
     "name": "stdout",
     "output_type": "stream",
     "text": [
      "num_video_frames: 428\n",
      "\n",
      "average_frame_rate: 43.1333344083074\n",
      "guessed_frame_rate: 25\n",
      "base_frame_rate: 25\n",
      "video_stream_timebase: 1/25000\n",
      "video_stream_start_time: 0.01124\n",
      "video_duration: 9.911439999999999\n",
      "computed_frame_rate: 43.18242354289589\n",
      "ndarray\n",
      "[[ 31  30  28 ...  37  37  34]\n",
      " [ 30  31  28 ...  38  39  38]\n",
      " [ 29  32  29 ...  42  36  41]\n",
      " ...\n",
      " [128 128 128 ... 128 128 128]\n",
      " [128 128 128 ... 128 128 128]\n",
      " [128 128 128 ... 128 128 128]]\n",
      "[[17 16 14 ... 24 24 21]\n",
      " [16 17 14 ... 26 27 26]\n",
      " [15 19 15 ... 30 23 29]\n",
      " ...\n",
      " [ 3  3  3 ...  3  3  3]\n",
      " [ 3  3  3 ...  3  3  3]\n",
      " [ 3  3  3 ...  3  3  3]]\n"
     ]
    }
   ],
   "source": [
    "video_stream = video_container.streams.video[0]\n",
    "num_video_frames = video_stream.frames\n",
    "print(f'num_video_frames: {num_video_frames}')\n",
    "print()\n",
    "\n",
    "average_frame_rate = float(video_stream.average_rate)\n",
    "print(f'average_frame_rate: {average_frame_rate}')\n",
    "\n",
    "guessed_frame_rate = video_stream.guessed_rate\n",
    "print(f'guessed_frame_rate: {guessed_frame_rate}')\n",
    "\n",
    "base_frame_rate = video_stream.base_rate\n",
    "print(f'base_frame_rate: {base_frame_rate}')\n",
    "\n",
    "video_stream_timebase = video_stream.time_base\n",
    "print(f'video_stream_timebase: {video_stream_timebase}')\n",
    "# NOTE: we WILL NEED this timebase to set any non ND2 output videos time base\n",
    "\n",
    "video_stream_start_time = float(video_stream.start_time * video_stream_timebase)\n",
    "print(f'video_stream_start_time: {video_stream_start_time}')\n",
    "\n",
    "video_duration = float(video_stream.duration * video_stream_timebase) - video_stream_start_time\n",
    "print(f'video_duration: {video_duration}')\n",
    "\n",
    "computed_frame_rate = float(num_video_frames)/video_duration\n",
    "print(f'computed_frame_rate: {computed_frame_rate}')\n",
    "\n",
    "# to implement a proper set reset for our videos, we will need to capture the pts of the frame\n",
    "# and then seek to wherever we need to go, and then seek back to that pts we captured\n",
    "\n",
    "video_frames = video_container.decode()\n",
    "video_container.seek(0)\n",
    "frame = next(video_frames)\n",
    "# TODO: have to figure out a way to determine if the video is yuv, rbg or just gray\n",
    "#       i think it's frame.format.name\n",
    "# https://github.com/PyAV-Org/PyAV/blob/9ac05d9ac902d71ecb2fe80f04dcae454008378c/av/video/frame.pyx#L187\n",
    "# print(f'format: {frame.format.name}')\n",
    "# print(f'is rgb? {frame.format.is_rgb}')\n",
    "# print(f'bits per pixel: {frame.format.bits_per_pixel}')\n",
    "\n",
    "print('ndarray')\n",
    "print(frame.to_ndarray())  # original format can be 3 channel etc\n",
    "print(frame.to_ndarray(format='gray'))  # grayscale format only converts if necessary so can always call it\n",
    "# frame_times = []  # only adding time stamps to a list because printing a list all at once is easier to see than one per line\n",
    "# for frame_num in range(num_video_frames):\n",
    "#     frame = next(video_frames)\n",
    "#     # these two methods of getting the time stamp in seconds are equivalent\n",
    "#     # so we can use the frame.pts to write the output video\n",
    "#     # frame_time_stamp = float(frame.pts * video_stream_timebase) - video_stream_start_time\n",
    "#     frame_time_stamp = frame.time - video_stream_start_time\n",
    "#     frame_times.append(frame_time_stamp)\n",
    "#     # do stuff with the frame i.e. match etc\n",
    "# print(frame_times)"
   ]
  },
  {
   "cell_type": "code",
   "execution_count": 40,
   "metadata": {},
   "outputs": [
    {
     "name": "stdout",
     "output_type": "stream",
     "text": [
      "ndarray\n",
      "[[ 31  30  28 ...  37  37  34]\n",
      " [ 30  31  28 ...  38  39  38]\n",
      " [ 29  32  29 ...  42  36  41]\n",
      " ...\n",
      " [128 128 128 ... 128 128 128]\n",
      " [128 128 128 ... 128 128 128]\n",
      " [128 128 128 ... 128 128 128]]\n",
      "[[17 16 14 ... 24 24 21]\n",
      " [16 17 14 ... 26 27 26]\n",
      " [15 19 15 ... 30 23 29]\n",
      " ...\n",
      " [ 3  3  3 ...  3  3  3]\n",
      " [ 3  3  3 ...  3  3  3]\n",
      " [ 3  3  3 ...  3  3  3]]\n"
     ]
    }
   ],
   "source": [
    "# video_container.close()\n",
    "video_container.seek(0)\n",
    "frame = next(video_frames)\n",
    "print('ndarray')\n",
    "print(frame.to_ndarray())  # original format can be 3 channel etc\n",
    "print(frame.to_ndarray(format='gray'))  # grayscale format only converts if necessary so can always call it"
   ]
  },
  {
   "cell_type": "code",
   "execution_count": 41,
   "metadata": {},
   "outputs": [
    {
     "data": {
      "text/plain": [
       "2304"
      ]
     },
     "execution_count": 41,
     "metadata": {},
     "output_type": "execute_result"
    }
   ],
   "source": [
    "video_stream.codec_context.width"
   ]
  },
  {
   "cell_type": "code",
   "execution_count": 42,
   "metadata": {},
   "outputs": [
    {
     "data": {
      "text/plain": [
       "1152"
      ]
     },
     "execution_count": 42,
     "metadata": {},
     "output_type": "execute_result"
    }
   ],
   "source": [
    "video_stream.codec_context.height"
   ]
  },
  {
   "cell_type": "code",
   "execution_count": 44,
   "metadata": {},
   "outputs": [
    {
     "data": {
      "text/plain": [
       "(1152, 2304)"
      ]
     },
     "execution_count": 44,
     "metadata": {},
     "output_type": "execute_result"
    }
   ],
   "source": [
    "np_frame = frame.to_ndarray(format='gray')\n",
    "np_frame.shape"
   ]
  },
  {
   "cell_type": "code",
   "execution_count": null,
   "metadata": {},
   "outputs": [],
   "source": []
  }
 ],
 "metadata": {
  "interpreter": {
   "hash": "767d51c1340bd893661ea55ea3124f6de3c7a262a8b4abca0554b478b1e2ff90"
  },
  "kernelspec": {
   "display_name": "Python 3.9.7 64-bit",
   "name": "python3"
  },
  "language_info": {
   "codemirror_mode": {
    "name": "ipython",
    "version": 3
   },
   "file_extension": ".py",
   "mimetype": "text/x-python",
   "name": "python",
   "nbconvert_exporter": "python",
   "pygments_lexer": "ipython3",
   "version": "3.9.7"
  }
 },
 "nbformat": 4,
 "nbformat_minor": 4
}
