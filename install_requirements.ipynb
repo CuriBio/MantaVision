{
 "cells": [
  {
   "cell_type": "code",
   "execution_count": null,
   "metadata": {},
   "outputs": [],
   "source": [
    "# install required packages\n",
    "!pip install opencv-python openpyxl av\n",
    "\n",
    "# to install in user only directories, add the --user directive\n",
    "# i.e. run the following pip command instead of the one above:\n",
    "# !pip install --user opencv-python scikit-image openpyxl\n",
    "# NOTE: lines starting with a # character will not be run\n",
    "#       because they are considered comments."
   ]
  }
 ],
 "metadata": {
  "kernelspec": {
   "display_name": "Python 3",
   "language": "python",
   "name": "python3"
  },
  "language_info": {
   "codemirror_mode": {
    "name": "ipython",
    "version": 3
   },
   "file_extension": ".py",
   "mimetype": "text/x-python",
   "name": "python",
   "nbconvert_exporter": "python",
   "pygments_lexer": "ipython3",
   "version": "3.9.6-final"
  }
 },
 "nbformat": 4,
 "nbformat_minor": 4
}