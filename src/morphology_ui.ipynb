{
 "cells": [
  {
   "cell_type": "code",
   "execution_count": null,
   "metadata": {
    "tags": []
   },
   "outputs": [],
   "source": [
    "from morphology import computeMorphologyMetrics\n",
    "import os\n",
    "from datetime import datetime\n",
    "from cv2 import cv2 as cv\n",
    "from matplotlib import pyplot as plt\n",
    "%matplotlib inline\n",
    "\n",
    "# Computes morphology metrics and writes out an xlsx file with the numerical results.\n",
    "# NOTE: Results will be written to a sub directory of where the file/s analyzed are located.\n",
    "#\n",
    "# search_image_path:            Path to the image or directory of images that metrics are to be computed for.\n",
    "#                               OPTIONS:\n",
    "#                               - \"select_file\" or \"select_dir' (case is ignored),\n",
    "#                                 a small window will pop up allowing selection of a file or directory \n",
    "#                                 from the file system where the image or images exist.\n",
    "#\n",
    "# template_image_paths:         A list of 2 paths to templates that will be located in search_image. \n",
    "#                               i.e. template_image_paths = [path_to_template_1_image, path_to_template_2_image]\n",
    "#                               These templates should have inner edges that form vertical end points of\n",
    "#                               a sub region in search_image that will be analyzed i.e.\n",
    "#                               the left template should have it's right vertical edge as the\n",
    "#                               left most point in search_image to consider, and \n",
    "#                               the right template should have it's left vertical edge as the \n",
    "#                               right most point in search_image to consider.\n",
    "#                               OPTIONS: \n",
    "#                               - \"select_files\" (case is ignored),\n",
    "#                                 a window will pop up allowing selection from the file system.\n",
    "#                               - \"draw_rois\", for every image being analyzed,\n",
    "#                                 a window will pop up where you can manually select ROIs.\n",
    "#                                 To draw the ROIs, the process is as follows:\n",
    "#                                 draw the bounding box for an roi and then hit enter, repeat for every roi,\n",
    "#                                 when all ROIs have been drawn, hit ESC to complete the selection.\n",
    "#                               - \"draw_rois_once\", the procedure is the same as for \"draw_rois\",\n",
    "#                                 but only the first image will appear to select ROIs from\n",
    "#                                 all other images to analyze will use these same templates.\n",
    "\n",
    "template_image_paths = 'draw_rois'\n",
    "directory_with_images = '/storage/data/home/positimothy/dev/repo/curibio/optical-tracking/test_data/morphology/multi_test/'\n",
    "computeMorphologyMetrics(\n",
    "    search_image_path=directory_with_images,\n",
    "    template_image_paths=template_image_paths,\n",
    "    sub_pixel_search_increment=None,\n",
    "    sub_pixel_refinement_radius=None,\n",
    "    microns_per_pixel=1.2,\n",
    "    write_result_images=False,\n",
    "    display_result_images=True    \n",
    ")"
   ]
  }
 ],
 "metadata": {
  "interpreter": {
   "hash": "767d51c1340bd893661ea55ea3124f6de3c7a262a8b4abca0554b478b1e2ff90"
  },
  "kernelspec": {
   "display_name": "Python 3.9.7 64-bit",
   "name": "python3"
  },
  "language_info": {
   "codemirror_mode": {
    "name": "ipython",
    "version": 3
   },
   "file_extension": ".py",
   "mimetype": "text/x-python",
   "name": "python",
   "nbconvert_exporter": "python",
   "pygments_lexer": "ipython3",
   "version": "3.9.7"
  }
 },
 "nbformat": 4,
 "nbformat_minor": 4
}
