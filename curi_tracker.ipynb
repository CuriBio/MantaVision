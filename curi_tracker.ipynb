{
 "cells": [
  {
   "cell_type": "code",
   "execution_count": null,
   "metadata": {},
   "outputs": [],
   "source": [
    "from track_template import track_templates\n",
    "\n",
    "# input_video_path:             Path to a directory of videos or single video to track an ROI.\n",
    "# template_guide_image_path:    A guide image used to find a new template ROI in the video to track.\n",
    "# guide_match_search_seconds:   How many seconds of each video to search for a ROI that best matches\n",
    "#                               the template guide image. This new ROI from within the video\n",
    "#                               will be used as a template to track throughout the entire video.\n",
    "#                               Optional [default = entire video length]\n",
    "# microns_per_pixel:            Conversion factor from pixels to microns for results. Optional [default = 1]\n",
    "\n",
    "config = {\n",
    "    \"input_video_path\":             \"./test_data/videos/\",\n",
    "    \"template_guide_image_path\":    \"./test_data/image_templates/magnet_full_template.jpg\",\n",
    "    \"guide_match_search_seconds\":   5,\n",
    "    \"microns_per_pixel\":            6.5    \n",
    "}\n",
    "\n",
    "track_templates(config)"
   ]
  }
 ],
 "metadata": {
  "kernelspec": {
   "display_name": "Python 3",
   "language": "python",
   "name": "python3"
  },
  "language_info": {
   "codemirror_mode": {
    "name": "ipython",
    "version": 3
   },
   "file_extension": ".py",
   "mimetype": "text/x-python",
   "name": "python",
   "nbconvert_exporter": "python",
   "pygments_lexer": "ipython3",
   "version": "3.9.2-final"
  }
 },
 "nbformat": 4,
 "nbformat_minor": 4
}