{
 "cells": [
  {
   "cell_type": "code",
   "execution_count": 1,
   "metadata": {},
   "outputs": [
    {
     "output_type": "error",
     "ename": "NameError",
     "evalue": "name 'track_templates' is not defined",
     "traceback": [
      "\u001b[0;31m---------------------------------------------------------------------------\u001b[0m",
      "\u001b[0;31mNameError\u001b[0m                                 Traceback (most recent call last)",
      "\u001b[0;32m<ipython-input-1-955effa6fbb5>\u001b[0m in \u001b[0;36m<module>\u001b[0;34m\u001b[0m\n\u001b[1;32m     26\u001b[0m }\n\u001b[1;32m     27\u001b[0m \u001b[0;34m\u001b[0m\u001b[0m\n\u001b[0;32m---> 28\u001b[0;31m \u001b[0mtrack_templates\u001b[0m\u001b[0;34m(\u001b[0m\u001b[0mconfig\u001b[0m\u001b[0;34m)\u001b[0m\u001b[0;34m\u001b[0m\u001b[0;34m\u001b[0m\u001b[0m\n\u001b[0m",
      "\u001b[0;31mNameError\u001b[0m: name 'track_templates' is not defined"
     ]
    }
   ],
   "source": [
    "from mantavision import run_track_template\n",
    "\n",
    "# input_video_path:             Path to a directory of videos or single video to track an ROI.\n",
    "# template_guide_image_path:    A guide image used to find a new template ROI in the video to track.\n",
    "# guide_match_search_seconds:   How many seconds of each video to search for a ROI that best matches\n",
    "#                               the template guide image. This new ROI from within the video\n",
    "#                               will be used as a template to track throughout the entire video.\n",
    "#                               Optional [default = entire video length].\n",
    "# output_conversion_factor:     All output will be multiplied by this value. This can be used to convert \n",
    "#                               from microns to raw ADC values from the mantarray, so the SDK will produce\n",
    "#                               correct force and displacement values since it expects ADC values.\n",
    "#                               Optional [default = 1].\n",
    "# microns_per_pixel:            Conversion factor from pixels to microns for results.\n",
    "#                               Optional [default = 1].\n",
    "\n",
    "# NOTE: if input_video_path or template_guide_image_path do not exist, or \n",
    "#       have a value of \"\" or \"ask\" (case is ignored),\n",
    "#       a small window will pop up allowing selection from the file system.\n",
    "\n",
    "config = {\n",
    "    \"input_video_path\":             \"ask\",\n",
    "    \"template_guide_image_path\":    \"./test_data/image_templates/magnet_full_template_hi_res.jpg\",\n",
    "    \"guide_match_search_seconds\":   5,\n",
    "    \"output_conversion_factor\":     309.9,\n",
    "    \"microns_per_pixel\":            3.5\n",
    "}\n",
    "\n",
    "run_track_template(config)"
   ]
  },
  {
   "cell_type": "code",
   "execution_count": null,
   "metadata": {},
   "outputs": [],
   "source": []
  }
 ],
 "metadata": {
  "kernelspec": {
   "display_name": "Python 3",
   "language": "python",
   "name": "python3"
  },
  "language_info": {
   "codemirror_mode": {
    "name": "ipython",
    "version": 3
   },
   "file_extension": ".py",
   "mimetype": "text/x-python",
   "name": "python",
   "nbconvert_exporter": "python",
   "pygments_lexer": "ipython3",
   "version": "3.9.5-final"
  }
 },
 "nbformat": 4,
 "nbformat_minor": 4
}