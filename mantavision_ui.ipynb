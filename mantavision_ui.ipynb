{
 "cells": [
  {
   "cell_type": "code",
   "execution_count": null,
   "metadata": {
    "tags": []
   },
   "outputs": [],
   "source": [
    "from mantavision import runTrackTemplate\n",
    "\n",
    "# input_video_path:             Path to a directory of videos or single video to track an ROI.\n",
    "#                               if input_video_path does not exist, is \"\" or \"select\" (case is ignored),\n",
    "#                               a small window will pop up allowing selection from the file system.\n",
    "#\n",
    "# template_guide_image_path:    A guide image used to find a new template ROI in the video to track.\n",
    "#                               if template_guide_image_path does not exist, is \"\" or \"select (case is ignored),\n",
    "#                               a small window will pop up allowing selection from the file system.\n",
    "#                               if template_guide_image_path is \"draw\", a small window will pop up, and\n",
    "#                               you can manually select a ROI from the first frame of the vido.\n",
    "#\n",
    "# guide_match_search_seconds:   How many seconds of each video to search for a ROI that best matches\n",
    "#                               the template guide image. This new ROI from within the video\n",
    "#                               will be used as a template to track throughout the entire video.\n",
    "#                               Optional [default = entire video length].\n",
    "#\n",
    "# output_conversion_factor:     All output will be multiplied by this value. This can be used to convert \n",
    "#                               from microns to raw ADC values from the mantarray, so the SDK will produce\n",
    "#                               correct force and displacement values since it expects ADC values.\n",
    "#                               Optional [default = 1].\n",
    "#\n",
    "# microns_per_pixel:            Conversion factor from pixels to microns for results.\n",
    "#                               Optional [default = 1].\n",
    "#\n",
    "# sub_pixel_search_increment:   Fraction of a pixel accuracy that matching will be performed to.\n",
    "#                               Note that an initial +/- 1 pixel accuracy search is performed, and then\n",
    "#                               a second refinement step with sub pixel accuracy is performed\n",
    "#                               by searching a small region around the first match.\n",
    "#                               Optional [default is None i.e. no sub pixel search]\n",
    "#\n",
    "# sub_pixel_refinement_radius   Number of pixels to search around the first match when performing\n",
    "#                               a sub pixel accuracy refinement match\n",
    "#                               Optional [default = 1]\n",
    "#\n",
    "# max_movement_per_frame        [x, y] maximum x and y movement in microns expected from one frame to the next.\n",
    "#                               If specified, limits the search in each frame to an area around the previous\n",
    "#                               match that is +/-x horizontally and +/-y vertically.\n",
    "#                               Optional [default = None] which means the entire image is searched\n",
    "\n",
    "config = {\n",
    "    \"input_video_path\":             \"./test_data/videos_to_track/\",\n",
    "    \"template_guide_image_path\":    \"select\",\n",
    "    \"guide_match_search_seconds\":   5,\n",
    "    \"output_conversion_factor\":     309.9,\n",
    "    \"microns_per_pixel\":            4.64,\n",
    "    \"sub_pixel_search_increment\":   0.4,\n",
    "    \"sub_pixel_refinement_radius\":  1,\n",
    "    \"max_movement_per_frame\":       [100, 100]\n",
    "}\n",
    "\n",
    "runTrackTemplate(config)"
   ]
  }
 ],
 "metadata": {
  "kernelspec": {
   "display_name": "Python 3",
   "language": "python",
   "name": "python3"
  },
  "language_info": {
   "codemirror_mode": {
    "name": "ipython",
    "version": 3
   },
   "file_extension": ".py",
   "mimetype": "text/x-python",
   "name": "python",
   "nbconvert_exporter": "python",
   "pygments_lexer": "ipython3",
   "version": "3.9.5-final"
  }
 },
 "nbformat": 4,
 "nbformat_minor": 4
}