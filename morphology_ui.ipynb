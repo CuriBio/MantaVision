{
 "cells": [
  {
   "cell_type": "code",
   "execution_count": null,
   "metadata": {},
   "outputs": [],
   "source": [
    "from morphology import morphologyMetrics\n",
    "from matplotlib import pyplot as plt\n",
    "%matplotlib inline\n",
    "\n",
    "# search_image_path:            Path to the image morphology metrics are to be computed for.\n",
    "#                               if search_image_path does not exist, is \"\" or \"select\" (case is ignored),\n",
    "#                               a small window will pop up allowing selection from the file system.\n",
    "#\n",
    "# template_image_paths:         A list of 2 paths to templates that will be located in search_image. \n",
    "#                               These templates should have inner edges that form vertical end points of\n",
    "#                               a sub region in search_image that will be analyzed i.e.\n",
    "#                               the left template should have it's right vertical edge as the\n",
    "#                               left most point in search_image to consider, and \n",
    "#                               the right template should have it's left vertical edge as the \n",
    "#                               right most point in search_image to consider.\n",
    "#                               - If template_image_paths does not exist is None or \"select (case is ignored),\n",
    "#                               a small window will pop up allowing selection from the file system.\n",
    "#                               - If template_image_paths is \"draw\", a small window will pop up, and\n",
    "#                               you can manually select a ROIs. To draw the ROIs, draw the bounding box\n",
    "#                               for the left most roi and then hit enter, then draw the bounding box for the\n",
    "#                               right most roi and then hit enter, then hit ESC to complete the selection.\n",
    "#\n",
    "\n",
    "test_dir = '/storage/data/home/positimothy/dev/repo/curibio/optical-tracking/test_data/morphology/'\n",
    "search_image_path = test_dir + 'test_search_image.jpg'\n",
    "template_image_left = test_dir + 'test_template_left.jpg'\n",
    "template_image_right = test_dir + 'test_template_right.jpg'\n",
    "template_image_paths = [template_image_left, template_image_right]\n",
    "\n",
    "metrics = morphologyMetrics(\n",
    "    search_image_path=search_image_path,\n",
    "    template_image_paths=template_image_paths,\n",
    "    sub_pixel_search_increment=None,\n",
    "    sub_pixel_refinement_radius=None,\n",
    "    microns_per_pixel=1.0\n",
    ")\n",
    "\n",
    "print(f\"horizontal inner distance between rois: {round(metrics['distance_between_rois'], 2)} (microns)\")\n",
    "print(f\"vertical thickness at midpoint between rois: {round(metrics['midpoint_thickness_avg'], 2)} (microns)\")\n",
    "print(f\"area between rois: {round(metrics['area_between_rois'], 2)} (square microns)\")\n"
   ]
  }
 ],
 "metadata": {
  "kernelspec": {
   "display_name": "Python 3.8.2 64-bit",
   "language": "python",
   "name": "python38264bit16ac5c15955c44b9b2db820545286123"
  },
  "language_info": {
   "codemirror_mode": {
    "name": "ipython",
    "version": 3
   },
   "file_extension": ".py",
   "mimetype": "text/x-python",
   "name": "python",
   "nbconvert_exporter": "python",
   "pygments_lexer": "ipython3",
   "version": "3.9.7-final"
  }
 },
 "nbformat": 4,
 "nbformat_minor": 4
}