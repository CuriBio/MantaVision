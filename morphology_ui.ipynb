{
 "cells": [
  {
   "cell_type": "code",
   "execution_count": 1,
   "metadata": {},
   "outputs": [
    {
     "output_type": "stream",
     "name": "stdout",
     "text": [
      "upper_edge_pos: 538 (value: 1051.0651404786677)\nlower_edge_pos: 559 (value: 758.8894901144641)\ninner distance (microns) between rois: 1044.0\ncomputed thickness (microns) at midpoint: 21.0\n"
     ]
    }
   ],
   "source": [
    "from morphology import computeMorphologyMetrics\n",
    "from matplotlib import pyplot as plt\n",
    "%matplotlib inline\n",
    "\n",
    "# global peak position: 514 (value: 1466.7245163801192)\n",
    "# other peak position: 697 (value: 1418.4138275222638)\n",
    "\n",
    "computeMorphologyMetrics(\n",
    "    search_image_path='/storage/data/home/positimothy/dev/repo/curibio/optical-tracking/2021-09-15_Ruth Drug_Plate_Well_B005.mp4_frame_546.jpg',\n",
    "    template_image_paths=[\n",
    "        '/storage/data/home/positimothy/dev/repo/curibio/optical-tracking/left_template.jpg',\n",
    "        '/storage/data/home/positimothy/dev/repo/curibio/optical-tracking/right_template.jpg'        \n",
    "    ],\n",
    "    sub_pixel_search_increment=None,\n",
    "    sub_pixel_refinement_radius=None,\n",
    "    microns_per_pixel=1.0\n",
    ")\n"
   ]
  },
  {
   "cell_type": "code",
   "execution_count": null,
   "metadata": {},
   "outputs": [],
   "source": []
  }
 ],
 "metadata": {
  "kernelspec": {
   "display_name": "Python 3.8.2 64-bit",
   "language": "python",
   "name": "python38264bit16ac5c15955c44b9b2db820545286123"
  },
  "language_info": {
   "codemirror_mode": {
    "name": "ipython",
    "version": 3
   },
   "file_extension": ".py",
   "mimetype": "text/x-python",
   "name": "python",
   "nbconvert_exporter": "python",
   "pygments_lexer": "ipython3",
   "version": "3.9.7-final"
  }
 },
 "nbformat": 4,
 "nbformat_minor": 4
}