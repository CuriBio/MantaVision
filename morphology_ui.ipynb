{
 "cells": [
  {
   "cell_type": "code",
   "execution_count": null,
   "metadata": {},
   "outputs": [],
   "source": [
    "from morphology import morphologyMetrics\n",
    "from matplotlib import pyplot as plt\n",
    "%matplotlib inline\n",
    "\n",
    "test_dir = '/storage/data/home/positimothy/dev/repo/curibio/optical-tracking/test_data/morphology/'\n",
    "search_image_path = test_dir + 'test_search_image.jpg'\n",
    "template_image_left = test_dir + 'test_template_left.jpg'\n",
    "template_image_right = test_dir + 'test_template_right.jpg'\n",
    "template_image_paths = [template_image_left, template_image_right]\n",
    "\n",
    "metrics = morphologyMetrics(\n",
    "    search_image_path=search_image_path,\n",
    "    template_image_paths=template_image_paths,\n",
    "    sub_pixel_search_increment=None,\n",
    "    sub_pixel_refinement_radius=None,\n",
    "    microns_per_pixel=1.0\n",
    ")\n",
    "\n",
    "print(f\"horizontal inner distance between rois: {round(metrics['distance_between_rois'], 2)} (microns)\")\n",
    "print(f\"vertical thickness at midpoint between rois: {round(metrics['midpoint_thickness_avg'], 2)} (microns)\")\n",
    "print(f\"area between rois: {round(metrics['area_between_rois'], 2)} (square microns)\")\n"
   ]
  }
 ],
 "metadata": {
  "kernelspec": {
   "display_name": "Python 3.8.2 64-bit",
   "language": "python",
   "name": "python38264bit16ac5c15955c44b9b2db820545286123"
  },
  "language_info": {
   "codemirror_mode": {
    "name": "ipython",
    "version": 3
   },
   "file_extension": ".py",
   "mimetype": "text/x-python",
   "name": "python",
   "nbconvert_exporter": "python",
   "pygments_lexer": "ipython3",
   "version": "3.9.7-final"
  }
 },
 "nbformat": 4,
 "nbformat_minor": 4
}