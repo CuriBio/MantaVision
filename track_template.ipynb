{
 "cells": [
  {
   "cell_type": "code",
   "execution_count": null,
   "metadata": {},
   "outputs": [],
   "source": [
    "from track_template import track_templates\n",
    "\n",
    "config = {\n",
    "    \"input_video_path\":     \"./tracker_results/videos/\",\n",
    "    \"template_image_path\":  \"./test_data/image_templates/magnet_full_template.jpg\",\n",
    "    \"template_as_guide\":    True,\n",
    "    \"seconds_per_period\":   10,\n",
    "    \"microns_per_pixel\":    6.5\n",
    "}\n",
    "\n",
    "track_templates(config)"
   ]
  }
 ],
 "metadata": {
  "kernelspec": {
   "display_name": "Python 3",
   "language": "python",
   "name": "python3"
  },
  "language_info": {
   "codemirror_mode": {
    "name": "ipython",
    "version": 3
   },
   "file_extension": ".py",
   "mimetype": "text/x-python",
   "name": "python",
   "nbconvert_exporter": "python",
   "pygments_lexer": "ipython3",
   "version": "3.9.2-final"
  }
 },
 "nbformat": 4,
 "nbformat_minor": 4
}